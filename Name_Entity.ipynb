{
 "cells": [
  {
   "cell_type": "code",
   "execution_count": 12,
   "metadata": {},
   "outputs": [],
   "source": [
    "import pandas as pd\n",
    "import spacy"
   ]
  },
  {
   "cell_type": "code",
   "execution_count": 13,
   "metadata": {},
   "outputs": [],
   "source": [
    "twitter = pd.read_csv('twitter_toxicity.csv')\n",
    "weibo_raw = pd.read_csv('weibo_toxicity.csv')"
   ]
  },
  {
   "cell_type": "code",
   "execution_count": 21,
   "metadata": {},
   "outputs": [],
   "source": [
    "# load spacy model\n",
    "zh_nlp = spacy.load('zh_core_web_trf')\n",
    "zh_nlp_efficient = spacy.load('zh_core_web_sm')\n",
    "en_nlp = spacy.load('en_core_web_trf')"
   ]
  },
  {
   "cell_type": "code",
   "execution_count": 16,
   "metadata": {},
   "outputs": [],
   "source": [
    "# create a function to extract entities\n",
    "def extract_entities(text, model):\n",
    "    doc = model(text)\n",
    "    entities = [(ent.text, ent.label_) for ent in doc.ents]\n",
    "    return entities"
   ]
  },
  {
   "cell_type": "code",
   "execution_count": 7,
   "metadata": {},
   "outputs": [],
   "source": [
    "twitter['entities']=twitter['username'].apply(lambda x: extract_entities(x, en_nlp))\n",
    "weibo_raw['entities']=weibo_raw['user_name'].apply(lambda x: extract_entities(x, zh_nlp_efficient))"
   ]
  }
 ],
 "metadata": {
  "kernelspec": {
   "display_name": "Python 3.6.6 64-bit",
   "language": "python",
   "name": "python3"
  },
  "language_info": {
   "codemirror_mode": {
    "name": "ipython",
    "version": 3
   },
   "file_extension": ".py",
   "mimetype": "text/x-python",
   "name": "python",
   "nbconvert_exporter": "python",
   "pygments_lexer": "ipython3",
   "version": "3.6.6"
  },
  "orig_nbformat": 4,
  "vscode": {
   "interpreter": {
    "hash": "e305155f97fc67735d43ae22e03c3d3ef0d30c8dd15c2437382c24283e2f5700"
   }
  }
 },
 "nbformat": 4,
 "nbformat_minor": 2
}
