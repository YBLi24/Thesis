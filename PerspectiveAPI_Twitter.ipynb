{
 "cells": [
  {
   "cell_type": "code",
   "execution_count": null,
   "metadata": {},
   "outputs": [],
   "source": [
    "from perspective import PerspectiveAPI\n",
    "p=PerspectiveAPI(\"*\")\n",
    "import pandas as pd"
   ]
  },
  {
   "cell_type": "code",
   "execution_count": null,
   "metadata": {},
   "outputs": [],
   "source": [
    "#import csv with pandas\n",
    "raw_data = pd.read_csv('twitter_original.csv', encoding='utf-8')\n",
    "raw_data.head()"
   ]
  },
  {
   "cell_type": "code",
   "execution_count": null,
   "metadata": {},
   "outputs": [],
   "source": [
    "import time\n",
    "\n",
    "toxicity = []\n",
    "for i in raw_data[\"text_processed\"]:\n",
    "    toxicity.append(p.analyze_comment(i,requested_attributes={\"TOXICITY\":{}},languages=[\"en\"])['attributeScores']['TOXICITY']['summaryScore']['value'])\n",
    "    time.sleep(0.8)\n",
    "\n",
    "raw_data[\"toxicity\"]=toxicity  "
   ]
  }
 ],
 "metadata": {
  "kernelspec": {
   "display_name": "Python 3.8.3 ('base')",
   "language": "python",
   "name": "python3"
  },
  "language_info": {
   "codemirror_mode": {
    "name": "ipython",
    "version": 3
   },
   "file_extension": ".py",
   "mimetype": "text/x-python",
   "name": "python",
   "nbconvert_exporter": "python",
   "pygments_lexer": "ipython3",
   "version": "3.8.3"
  },
  "orig_nbformat": 4,
  "vscode": {
   "interpreter": {
    "hash": "d03b43673b535202154ef7bb00df8237e43b553904849b4c63ba63d09536c585"
   }
  }
 },
 "nbformat": 4,
 "nbformat_minor": 2
}
